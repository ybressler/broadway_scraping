{
 "cells": [
  {
   "cell_type": "markdown",
   "metadata": {},
   "source": [
    "<span style=\"font-size:3.0em\">\n",
    "    Wikipedia Scrape – Tony Nominees\n",
    "    <br>\n",
    "</span> \n",
    "\n",
    "<i> Some neat smooth functions for grabbing data from Wikipedia. There are some inadequacies, skip down to section 6 to read what they are.</i>"
   ]
  },
  {
   "cell_type": "markdown",
   "metadata": {},
   "source": [
    "# Import Functions and Dependencies"
   ]
  },
  {
   "cell_type": "markdown",
   "metadata": {},
   "source": [
    "## Prereqs"
   ]
  },
  {
   "cell_type": "code",
   "execution_count": 1,
   "metadata": {
    "ExecuteTime": {
     "end_time": "2019-06-11T07:21:12.571800Z",
     "start_time": "2019-06-11T07:21:12.568623Z"
    }
   },
   "outputs": [],
   "source": [
    "# ! pip install lxml setuptools requests bs4 pandas numpy IPython"
   ]
  },
  {
   "cell_type": "markdown",
   "metadata": {},
   "source": [
    "## Load Packages"
   ]
  },
  {
   "cell_type": "code",
   "execution_count": 2,
   "metadata": {
    "ExecuteTime": {
     "end_time": "2019-06-11T07:21:13.540938Z",
     "start_time": "2019-06-11T07:21:12.575794Z"
    }
   },
   "outputs": [],
   "source": [
    "import requests\n",
    "import pandas as pd\n",
    "from IPython.display import display_html\n",
    "from bs4 import BeautifulSoup\n",
    "import numpy as np\n",
    "import re\n",
    "import os"
   ]
  },
  {
   "cell_type": "markdown",
   "metadata": {},
   "source": [
    "## Function to get tables from url\n",
    "\n",
    "<pre>\n",
    "get_tables_from_url(url)\n",
    "</pre>"
   ]
  },
  {
   "cell_type": "code",
   "execution_count": 3,
   "metadata": {
    "ExecuteTime": {
     "end_time": "2019-06-11T07:21:16.950777Z",
     "start_time": "2019-06-11T07:21:16.939670Z"
    }
   },
   "outputs": [],
   "source": [
    "\n",
    "def get_tables_from_url(url):\n",
    "    \"\"\"\n",
    "    Gets a list of tables from an input url.\n",
    "    \n",
    "    \"\"\"\n",
    "\n",
    "    # Request the document\n",
    "    r = requests.get(url)\n",
    "    html_doc = r.text\n",
    "    soup = BeautifulSoup(html_doc,'lxml')\n",
    "    \n",
    "    table_classes = {\"class\": [\"wikitable\"]}\n",
    "    tables = soup.findAll(\"table\", table_classes)\n",
    "    \n",
    "    return tables"
   ]
  },
  {
   "cell_type": "markdown",
   "metadata": {},
   "source": [
    "## Improved!\n",
    "<pre>\n",
    "get_df_from_table(table_in)\n",
    "</pre>"
   ]
  },
  {
   "cell_type": "code",
   "execution_count": 43,
   "metadata": {
    "ExecuteTime": {
     "end_time": "2019-06-11T07:27:01.384041Z",
     "start_time": "2019-06-11T07:27:01.370612Z"
    }
   },
   "outputs": [],
   "source": [
    "def get_df_from_table(table_in):\n",
    "    \"\"\"\n",
    "    returns a structured table for a beautiful soup table\n",
    "    \"\"\"\n",
    "\n",
    "    ### SET UP REGEX\n",
    "\n",
    "    re_1 = \"\\d{4}\"\n",
    "    re_2 = \"\\d{1,2}(th|rd|st|nd) Tony Awards\"\n",
    "\n",
    "    # Get Winners!\n",
    "    winner_vals=[]\n",
    "    for row in table_in.find_all('tr',attrs={'style':'background:#B0C4DE'}):\n",
    "        vals = [cell.text.strip() for cell in row.findAll('td')]\n",
    "        winner_vals.append(vals)\n",
    "\n",
    "\n",
    "    # JUMP INTO IT!\n",
    "    parsed_table_data=[]\n",
    "    rows = table_in.find_all('tr')\n",
    "\n",
    "    row_1 = rows[0]\n",
    "    variables = [cell.text.strip() for cell in row_1.findAll('th', style=True)]\n",
    "\n",
    "    record_list = []\n",
    "    for row in rows[1:]:\n",
    "        record = {}\n",
    "        # Add the year\n",
    "        if re.findall(re_2, row.text):\n",
    "            year = re.findall(re_1, row.text)[0]\n",
    "            continue\n",
    "        values = [cell.text.strip() for cell in row.findAll('td')]\n",
    "\n",
    "        # Compare to winners\n",
    "        if values in winner_vals:\n",
    "            record['Winner']=True\n",
    "        else:\n",
    "            record['Winner']=False\n",
    "\n",
    "        # Get busy   \n",
    "        values.insert(0,year)\n",
    "        while len(values)< len(variables):\n",
    "            values.append(values[-1])\n",
    "        for k, v in zip(variables,values):\n",
    "            record[k]=v\n",
    "\n",
    "        if row.find('a'):\n",
    "            record['Link'] = 'https://en.wikipedia.org' + row.find('a').get('href')\n",
    "\n",
    "        record_list.append(record)\n",
    "    \n",
    "    df = pd.DataFrame(record_list)\n",
    "    return df"
   ]
  },
  {
   "cell_type": "markdown",
   "metadata": {},
   "source": [
    "# Get Musicals\n",
    "Scrape that wikipedia stuff."
   ]
  },
  {
   "cell_type": "code",
   "execution_count": 58,
   "metadata": {
    "ExecuteTime": {
     "end_time": "2019-06-11T07:30:22.741277Z",
     "start_time": "2019-06-11T07:30:22.735697Z"
    }
   },
   "outputs": [],
   "source": [
    "url = 'https://en.wikipedia.org/wiki/Tony_Award_for_Best_Musical'"
   ]
  },
  {
   "cell_type": "code",
   "execution_count": 59,
   "metadata": {
    "ExecuteTime": {
     "end_time": "2019-06-11T07:30:23.877383Z",
     "start_time": "2019-06-11T07:30:23.432931Z"
    }
   },
   "outputs": [
    {
     "data": {
      "text/html": [
       "<div>\n",
       "<style scoped>\n",
       "    .dataframe tbody tr th:only-of-type {\n",
       "        vertical-align: middle;\n",
       "    }\n",
       "\n",
       "    .dataframe tbody tr th {\n",
       "        vertical-align: top;\n",
       "    }\n",
       "\n",
       "    .dataframe thead th {\n",
       "        text-align: right;\n",
       "    }\n",
       "</style>\n",
       "<table border=\"1\" class=\"dataframe\">\n",
       "  <thead>\n",
       "    <tr style=\"text-align: right;\">\n",
       "      <th></th>\n",
       "      <th>Year</th>\n",
       "      <th>Winner</th>\n",
       "      <th>Musical</th>\n",
       "      <th>Music</th>\n",
       "      <th>Book</th>\n",
       "      <th>Lyrics</th>\n",
       "      <th>Link</th>\n",
       "    </tr>\n",
       "  </thead>\n",
       "  <tbody>\n",
       "    <tr>\n",
       "      <th>0</th>\n",
       "      <td>1949</td>\n",
       "      <td>True</td>\n",
       "      <td>Kiss Me, Kate</td>\n",
       "      <td>Cole Porter</td>\n",
       "      <td>Bella &amp; Samuel Spewack</td>\n",
       "      <td>Cole Porter</td>\n",
       "      <td>https://en.wikipedia.org/wiki/Kiss_Me,_Kate</td>\n",
       "    </tr>\n",
       "    <tr>\n",
       "      <th>1</th>\n",
       "      <td>1950</td>\n",
       "      <td>True</td>\n",
       "      <td>South Pacific †</td>\n",
       "      <td>Richard Rodgers</td>\n",
       "      <td>Oscar Hammerstein II &amp; Joshua Logan</td>\n",
       "      <td>Hammerstein</td>\n",
       "      <td>https://en.wikipedia.org/wiki/South_Pacific_(m...</td>\n",
       "    </tr>\n",
       "    <tr>\n",
       "      <th>2</th>\n",
       "      <td>1951</td>\n",
       "      <td>True</td>\n",
       "      <td>Guys and Dolls</td>\n",
       "      <td>Frank Loesser</td>\n",
       "      <td>Abe Burrows &amp; Jo Swerling</td>\n",
       "      <td>Frank Loesser</td>\n",
       "      <td>https://en.wikipedia.org/wiki/Guys_and_Dolls</td>\n",
       "    </tr>\n",
       "    <tr>\n",
       "      <th>3</th>\n",
       "      <td>1952</td>\n",
       "      <td>True</td>\n",
       "      <td>The King and I</td>\n",
       "      <td>Richard Rodgers</td>\n",
       "      <td>Oscar Hammerstein II</td>\n",
       "      <td>Hammerstein</td>\n",
       "      <td>https://en.wikipedia.org/wiki/The_King_and_I</td>\n",
       "    </tr>\n",
       "    <tr>\n",
       "      <th>4</th>\n",
       "      <td>1953</td>\n",
       "      <td>True</td>\n",
       "      <td>Wonderful Town</td>\n",
       "      <td>Leonard Bernstein</td>\n",
       "      <td>Jerome Chodorov &amp; Joseph Fields</td>\n",
       "      <td>Betty Comden &amp; Adolph Green</td>\n",
       "      <td>https://en.wikipedia.org/wiki/Wonderful_Town</td>\n",
       "    </tr>\n",
       "  </tbody>\n",
       "</table>\n",
       "</div>"
      ],
      "text/plain": [
       "   Year  Winner          Musical              Music  \\\n",
       "0  1949    True    Kiss Me, Kate        Cole Porter   \n",
       "1  1950    True  South Pacific †    Richard Rodgers   \n",
       "2  1951    True   Guys and Dolls      Frank Loesser   \n",
       "3  1952    True   The King and I    Richard Rodgers   \n",
       "4  1953    True   Wonderful Town  Leonard Bernstein   \n",
       "\n",
       "                                  Book                       Lyrics  \\\n",
       "0               Bella & Samuel Spewack                  Cole Porter   \n",
       "1  Oscar Hammerstein II & Joshua Logan                  Hammerstein   \n",
       "2            Abe Burrows & Jo Swerling                Frank Loesser   \n",
       "3                 Oscar Hammerstein II                  Hammerstein   \n",
       "4      Jerome Chodorov & Joseph Fields  Betty Comden & Adolph Green   \n",
       "\n",
       "                                                Link  \n",
       "0        https://en.wikipedia.org/wiki/Kiss_Me,_Kate  \n",
       "1  https://en.wikipedia.org/wiki/South_Pacific_(m...  \n",
       "2       https://en.wikipedia.org/wiki/Guys_and_Dolls  \n",
       "3       https://en.wikipedia.org/wiki/The_King_and_I  \n",
       "4       https://en.wikipedia.org/wiki/Wonderful_Town  "
      ]
     },
     "execution_count": 59,
     "metadata": {},
     "output_type": "execute_result"
    }
   ],
   "source": [
    "tables = get_tables_from_url(url)\n",
    "df=pd.DataFrame()\n",
    "for table in tables:\n",
    "    sub_df = get_df_from_table(table)\n",
    "    df = df.append(sub_df,ignore_index=True)\n",
    "    \n",
    "name_root = url.split('/')[-1]\n",
    "df_name = 'Wikipedia_scrape_' + name_root + '.csv'\n",
    "df = df[['Year','Winner','Musical','Music','Book','Lyrics','Link']]\n",
    "df.to_csv(df_name)\n",
    "df.head()"
   ]
  },
  {
   "cell_type": "markdown",
   "metadata": {},
   "source": [
    "# Get Plays\n",
    "Scrape that wikipedia stuff."
   ]
  },
  {
   "cell_type": "code",
   "execution_count": 60,
   "metadata": {
    "ExecuteTime": {
     "end_time": "2019-06-11T07:30:25.423135Z",
     "start_time": "2019-06-11T07:30:25.414804Z"
    }
   },
   "outputs": [],
   "source": [
    "url = 'https://en.wikipedia.org/wiki/Tony_Award_for_Best_Play'"
   ]
  },
  {
   "cell_type": "code",
   "execution_count": 62,
   "metadata": {
    "ExecuteTime": {
     "end_time": "2019-06-11T07:30:29.437495Z",
     "start_time": "2019-06-11T07:30:28.870819Z"
    }
   },
   "outputs": [
    {
     "data": {
      "text/html": [
       "<div>\n",
       "<style scoped>\n",
       "    .dataframe tbody tr th:only-of-type {\n",
       "        vertical-align: middle;\n",
       "    }\n",
       "\n",
       "    .dataframe tbody tr th {\n",
       "        vertical-align: top;\n",
       "    }\n",
       "\n",
       "    .dataframe thead th {\n",
       "        text-align: right;\n",
       "    }\n",
       "</style>\n",
       "<table border=\"1\" class=\"dataframe\">\n",
       "  <thead>\n",
       "    <tr style=\"text-align: right;\">\n",
       "      <th></th>\n",
       "      <th>Year</th>\n",
       "      <th>Winner</th>\n",
       "      <th>Production</th>\n",
       "      <th>Author</th>\n",
       "      <th>Link</th>\n",
       "    </tr>\n",
       "  </thead>\n",
       "  <tbody>\n",
       "    <tr>\n",
       "      <th>0</th>\n",
       "      <td>1948</td>\n",
       "      <td>True</td>\n",
       "      <td>Mister Roberts</td>\n",
       "      <td>Thomas Heggen &amp; Joshua Logan</td>\n",
       "      <td>https://en.wikipedia.org/wiki/Mister_Roberts_(...</td>\n",
       "    </tr>\n",
       "    <tr>\n",
       "      <th>1</th>\n",
       "      <td>1949</td>\n",
       "      <td>True</td>\n",
       "      <td>Death of a Salesman †</td>\n",
       "      <td>Arthur Miller</td>\n",
       "      <td>https://en.wikipedia.org/wiki/Death_of_a_Salesman</td>\n",
       "    </tr>\n",
       "    <tr>\n",
       "      <th>2</th>\n",
       "      <td>1950</td>\n",
       "      <td>True</td>\n",
       "      <td>The Cocktail Party</td>\n",
       "      <td>T. S. Eliot</td>\n",
       "      <td>https://en.wikipedia.org/wiki/The_Cocktail_Party</td>\n",
       "    </tr>\n",
       "    <tr>\n",
       "      <th>3</th>\n",
       "      <td>1951</td>\n",
       "      <td>True</td>\n",
       "      <td>The Rose Tattoo</td>\n",
       "      <td>Tennessee Williams</td>\n",
       "      <td>https://en.wikipedia.org/wiki/The_Rose_Tattoo</td>\n",
       "    </tr>\n",
       "    <tr>\n",
       "      <th>4</th>\n",
       "      <td>1952</td>\n",
       "      <td>True</td>\n",
       "      <td>The Fourposter</td>\n",
       "      <td>Jan de Hartog</td>\n",
       "      <td>https://en.wikipedia.org/wiki/The_Fourposter</td>\n",
       "    </tr>\n",
       "  </tbody>\n",
       "</table>\n",
       "</div>"
      ],
      "text/plain": [
       "   Year  Winner             Production                        Author  \\\n",
       "0  1948    True         Mister Roberts  Thomas Heggen & Joshua Logan   \n",
       "1  1949    True  Death of a Salesman †                 Arthur Miller   \n",
       "2  1950    True     The Cocktail Party                   T. S. Eliot   \n",
       "3  1951    True        The Rose Tattoo            Tennessee Williams   \n",
       "4  1952    True         The Fourposter                 Jan de Hartog   \n",
       "\n",
       "                                                Link  \n",
       "0  https://en.wikipedia.org/wiki/Mister_Roberts_(...  \n",
       "1  https://en.wikipedia.org/wiki/Death_of_a_Salesman  \n",
       "2   https://en.wikipedia.org/wiki/The_Cocktail_Party  \n",
       "3      https://en.wikipedia.org/wiki/The_Rose_Tattoo  \n",
       "4       https://en.wikipedia.org/wiki/The_Fourposter  "
      ]
     },
     "execution_count": 62,
     "metadata": {},
     "output_type": "execute_result"
    }
   ],
   "source": [
    "tables = get_tables_from_url(url)\n",
    "df=pd.DataFrame()\n",
    "for table in tables:\n",
    "    sub_df = get_df_from_table(table)\n",
    "    df = df.append(sub_df,ignore_index=True)\n",
    "    \n",
    "name_root = url.split('/')[-1]\n",
    "df_name = 'Wikipedia_scrape_' + name_root + '.csv'\n",
    "df = df[['Year','Winner','Production','Author','Link']]\n",
    "df.to_csv(df_name)\n",
    "df.head()"
   ]
  },
  {
   "cell_type": "markdown",
   "metadata": {},
   "source": [
    "# Get Revival of a Musical\n",
    "Scrape that wikipedia stuff."
   ]
  },
  {
   "cell_type": "code",
   "execution_count": 63,
   "metadata": {
    "ExecuteTime": {
     "end_time": "2019-06-11T07:30:30.756284Z",
     "start_time": "2019-06-11T07:30:30.750427Z"
    }
   },
   "outputs": [],
   "source": [
    "url = 'https://en.wikipedia.org/wiki/Tony_Award_for_Best_Revival_of_a_Musical'"
   ]
  },
  {
   "cell_type": "code",
   "execution_count": 68,
   "metadata": {
    "ExecuteTime": {
     "end_time": "2019-06-11T07:30:59.994807Z",
     "start_time": "2019-06-11T07:30:59.745393Z"
    }
   },
   "outputs": [
    {
     "data": {
      "text/html": [
       "<div>\n",
       "<style scoped>\n",
       "    .dataframe tbody tr th:only-of-type {\n",
       "        vertical-align: middle;\n",
       "    }\n",
       "\n",
       "    .dataframe tbody tr th {\n",
       "        vertical-align: top;\n",
       "    }\n",
       "\n",
       "    .dataframe thead th {\n",
       "        text-align: right;\n",
       "    }\n",
       "</style>\n",
       "<table border=\"1\" class=\"dataframe\">\n",
       "  <thead>\n",
       "    <tr style=\"text-align: right;\">\n",
       "      <th></th>\n",
       "      <th>Year</th>\n",
       "      <th>Winner</th>\n",
       "      <th>Musical</th>\n",
       "      <th>Music</th>\n",
       "      <th>Book</th>\n",
       "      <th>Lyrics</th>\n",
       "      <th>Link</th>\n",
       "    </tr>\n",
       "  </thead>\n",
       "  <tbody>\n",
       "    <tr>\n",
       "      <th>0</th>\n",
       "      <td>1994</td>\n",
       "      <td>True</td>\n",
       "      <td>Carousel</td>\n",
       "      <td>Richard Rodgers</td>\n",
       "      <td>Oscar Hammerstein II</td>\n",
       "      <td>Hammerstein</td>\n",
       "      <td>https://en.wikipedia.org/wiki/Carousel_(musical)</td>\n",
       "    </tr>\n",
       "    <tr>\n",
       "      <th>1</th>\n",
       "      <td>1994</td>\n",
       "      <td>False</td>\n",
       "      <td>Damn Yankees</td>\n",
       "      <td>Richard Adler</td>\n",
       "      <td>George Abbott &amp; Douglass Wallop</td>\n",
       "      <td>Jerry Ross</td>\n",
       "      <td>https://en.wikipedia.org/wiki/Damn_Yankees</td>\n",
       "    </tr>\n",
       "    <tr>\n",
       "      <th>2</th>\n",
       "      <td>1994</td>\n",
       "      <td>False</td>\n",
       "      <td>Grease</td>\n",
       "      <td>Warren Casey &amp; Jim Jacobs</td>\n",
       "      <td>Warren Casey &amp; Jim Jacobs</td>\n",
       "      <td>Warren Casey &amp; Jim Jacobs</td>\n",
       "      <td>https://en.wikipedia.org/wiki/Grease_(musical)</td>\n",
       "    </tr>\n",
       "    <tr>\n",
       "      <th>3</th>\n",
       "      <td>1994</td>\n",
       "      <td>False</td>\n",
       "      <td>She Loves Me</td>\n",
       "      <td>Jerry Bock</td>\n",
       "      <td>Joe Masteroff</td>\n",
       "      <td>Sheldon Harnick</td>\n",
       "      <td>https://en.wikipedia.org/wiki/She_Loves_Me</td>\n",
       "    </tr>\n",
       "    <tr>\n",
       "      <th>4</th>\n",
       "      <td>1995</td>\n",
       "      <td>True</td>\n",
       "      <td>Show Boat</td>\n",
       "      <td>Jerome Kern</td>\n",
       "      <td>Oscar Hammerstein II</td>\n",
       "      <td>Hammerstein &amp; P. G. Wodehouse</td>\n",
       "      <td>https://en.wikipedia.org/wiki/Show_Boat</td>\n",
       "    </tr>\n",
       "  </tbody>\n",
       "</table>\n",
       "</div>"
      ],
      "text/plain": [
       "   Year  Winner       Musical                      Music  \\\n",
       "0  1994    True      Carousel            Richard Rodgers   \n",
       "1  1994   False  Damn Yankees              Richard Adler   \n",
       "2  1994   False        Grease  Warren Casey & Jim Jacobs   \n",
       "3  1994   False  She Loves Me                 Jerry Bock   \n",
       "4  1995    True     Show Boat                Jerome Kern   \n",
       "\n",
       "                              Book                         Lyrics  \\\n",
       "0             Oscar Hammerstein II                    Hammerstein   \n",
       "1  George Abbott & Douglass Wallop                     Jerry Ross   \n",
       "2        Warren Casey & Jim Jacobs      Warren Casey & Jim Jacobs   \n",
       "3                    Joe Masteroff                Sheldon Harnick   \n",
       "4             Oscar Hammerstein II  Hammerstein & P. G. Wodehouse   \n",
       "\n",
       "                                               Link  \n",
       "0  https://en.wikipedia.org/wiki/Carousel_(musical)  \n",
       "1        https://en.wikipedia.org/wiki/Damn_Yankees  \n",
       "2    https://en.wikipedia.org/wiki/Grease_(musical)  \n",
       "3        https://en.wikipedia.org/wiki/She_Loves_Me  \n",
       "4           https://en.wikipedia.org/wiki/Show_Boat  "
      ]
     },
     "execution_count": 68,
     "metadata": {},
     "output_type": "execute_result"
    }
   ],
   "source": [
    "tables = get_tables_from_url(url)\n",
    "df=pd.DataFrame()\n",
    "for table in tables:\n",
    "    sub_df = get_df_from_table(table)\n",
    "    df = df.append(sub_df,ignore_index=True)\n",
    "    \n",
    "name_root = url.split('/')[-1]\n",
    "df_name = 'Wikipedia_scrape_' + name_root + '.csv'\n",
    "df = df[['Year','Winner','Musical','Music','Book','Lyrics','Link']]\n",
    "df.to_csv(df_name)\n",
    "df.head()"
   ]
  },
  {
   "cell_type": "markdown",
   "metadata": {},
   "source": [
    "# Get Revival of Plays\n",
    "Scrape that wikipedia stuff."
   ]
  },
  {
   "cell_type": "code",
   "execution_count": 69,
   "metadata": {
    "ExecuteTime": {
     "end_time": "2019-06-11T07:31:06.031855Z",
     "start_time": "2019-06-11T07:31:06.028071Z"
    }
   },
   "outputs": [],
   "source": [
    "url = 'https://en.wikipedia.org/wiki/Tony_Award_for_Best_Revival_of_a_Play'"
   ]
  },
  {
   "cell_type": "code",
   "execution_count": 72,
   "metadata": {
    "ExecuteTime": {
     "end_time": "2019-06-11T07:31:26.729206Z",
     "start_time": "2019-06-11T07:31:26.463289Z"
    }
   },
   "outputs": [
    {
     "data": {
      "text/html": [
       "<div>\n",
       "<style scoped>\n",
       "    .dataframe tbody tr th:only-of-type {\n",
       "        vertical-align: middle;\n",
       "    }\n",
       "\n",
       "    .dataframe tbody tr th {\n",
       "        vertical-align: top;\n",
       "    }\n",
       "\n",
       "    .dataframe thead th {\n",
       "        text-align: right;\n",
       "    }\n",
       "</style>\n",
       "<table border=\"1\" class=\"dataframe\">\n",
       "  <thead>\n",
       "    <tr style=\"text-align: right;\">\n",
       "      <th></th>\n",
       "      <th>Year</th>\n",
       "      <th>Winner</th>\n",
       "      <th>Play</th>\n",
       "      <th>Author</th>\n",
       "      <th>Link</th>\n",
       "    </tr>\n",
       "  </thead>\n",
       "  <tbody>\n",
       "    <tr>\n",
       "      <th>0</th>\n",
       "      <td>1994</td>\n",
       "      <td>True</td>\n",
       "      <td>An Inspector Calls</td>\n",
       "      <td>J. B. Priestley</td>\n",
       "      <td>https://en.wikipedia.org/wiki/An_Inspector_Calls</td>\n",
       "    </tr>\n",
       "    <tr>\n",
       "      <th>1</th>\n",
       "      <td>1994</td>\n",
       "      <td>False</td>\n",
       "      <td>Abe Lincoln in Illinois</td>\n",
       "      <td>Robert E. Sherwood</td>\n",
       "      <td>https://en.wikipedia.org/wiki/Abe_Lincoln_in_I...</td>\n",
       "    </tr>\n",
       "    <tr>\n",
       "      <th>2</th>\n",
       "      <td>1994</td>\n",
       "      <td>False</td>\n",
       "      <td>Medea</td>\n",
       "      <td>Euripides</td>\n",
       "      <td>https://en.wikipedia.org/wiki/Medea_(play)</td>\n",
       "    </tr>\n",
       "    <tr>\n",
       "      <th>3</th>\n",
       "      <td>1994</td>\n",
       "      <td>False</td>\n",
       "      <td>Timon of Athens</td>\n",
       "      <td>William Shakespeare</td>\n",
       "      <td>https://en.wikipedia.org/wiki/Timon_of_Athens</td>\n",
       "    </tr>\n",
       "    <tr>\n",
       "      <th>4</th>\n",
       "      <td>1995</td>\n",
       "      <td>True</td>\n",
       "      <td>The Heiress</td>\n",
       "      <td>Augustus Goetz and Ruth Goetz</td>\n",
       "      <td>https://en.wikipedia.org/wiki/The_Heiress_(194...</td>\n",
       "    </tr>\n",
       "  </tbody>\n",
       "</table>\n",
       "</div>"
      ],
      "text/plain": [
       "   Year  Winner                     Play                         Author  \\\n",
       "0  1994    True       An Inspector Calls                J. B. Priestley   \n",
       "1  1994   False  Abe Lincoln in Illinois             Robert E. Sherwood   \n",
       "2  1994   False                    Medea                      Euripides   \n",
       "3  1994   False          Timon of Athens            William Shakespeare   \n",
       "4  1995    True              The Heiress  Augustus Goetz and Ruth Goetz   \n",
       "\n",
       "                                                Link  \n",
       "0   https://en.wikipedia.org/wiki/An_Inspector_Calls  \n",
       "1  https://en.wikipedia.org/wiki/Abe_Lincoln_in_I...  \n",
       "2         https://en.wikipedia.org/wiki/Medea_(play)  \n",
       "3      https://en.wikipedia.org/wiki/Timon_of_Athens  \n",
       "4  https://en.wikipedia.org/wiki/The_Heiress_(194...  "
      ]
     },
     "execution_count": 72,
     "metadata": {},
     "output_type": "execute_result"
    }
   ],
   "source": [
    "tables = get_tables_from_url(url)\n",
    "df=pd.DataFrame()\n",
    "for table in tables:\n",
    "    sub_df = get_df_from_table(table)\n",
    "    df = df.append(sub_df,ignore_index=True)\n",
    "    \n",
    "name_root = url.split('/')[-1]\n",
    "df_name = 'Wikipedia_scrape_' + name_root + '.csv'\n",
    "df = df[['Year','Winner','Play','Author','Link']]\n",
    "# df.to_csv(df_name)\n",
    "df.head()"
   ]
  },
  {
   "cell_type": "markdown",
   "metadata": {},
   "source": [
    "# Finished!\n",
    "Done! Each is in its own df.\n",
    "\n",
    "<hr>\n",
    "<i>\n",
    "    Maybe make a single df with a column representing the category of a tony nominee? Also, would be nice to include which ones are winners. This can be done in the next iteration.  \n",
    "    </i>\n",
    "    <hr>"
   ]
  },
  {
   "cell_type": "markdown",
   "metadata": {},
   "source": [
    "## Load df\n",
    "<i>\n",
    "If you want to load the files you just downloaded... \n",
    "</i>\n",
    "<pre>\n",
    "get_files(dir_in = os.getcwd(), csv_in = True):\n",
    "</pre>"
   ]
  },
  {
   "cell_type": "code",
   "execution_count": 73,
   "metadata": {
    "ExecuteTime": {
     "end_time": "2019-06-11T07:31:32.413185Z",
     "start_time": "2019-06-11T07:31:32.403362Z"
    }
   },
   "outputs": [],
   "source": [
    "import os\n",
    "\n",
    "def get_files(dir_in = os.getcwd(), csv_in = True):\n",
    "    \"\"\"\n",
    "    returns a list of paths of files\n",
    "    option to include csvs\n",
    "    requires you load os\n",
    "    \"\"\"\n",
    "    files = [x for x in os.listdir(dir_in)]\n",
    "    file_paths = [os.path.abspath(x) for x in os.listdir(dir_in)]\n",
    "    csv_paths = [x for x in file_paths if x.endswith('.csv')]\n",
    "    \n",
    "    if csv_in is False:\n",
    "        return file_paths\n",
    "    else:\n",
    "        return csv_paths\n",
    "        "
   ]
  },
  {
   "cell_type": "code",
   "execution_count": 74,
   "metadata": {
    "ExecuteTime": {
     "end_time": "2019-06-11T07:31:34.205238Z",
     "start_time": "2019-06-11T07:31:34.172024Z"
    }
   },
   "outputs": [
    {
     "name": "stdout",
     "output_type": "stream",
     "text": [
      "file is here!\n",
      "   Year  Winner          Musical              Music  \\\n",
      "0  1949    True    Kiss Me, Kate        Cole Porter   \n",
      "1  1950    True  South Pacific †    Richard Rodgers   \n",
      "2  1951    True   Guys and Dolls      Frank Loesser   \n",
      "3  1952    True   The King and I    Richard Rodgers   \n",
      "4  1953    True   Wonderful Town  Leonard Bernstein   \n",
      "\n",
      "                                  Book                       Lyrics  \\\n",
      "0               Bella & Samuel Spewack                  Cole Porter   \n",
      "1  Oscar Hammerstein II & Joshua Logan                  Hammerstein   \n",
      "2            Abe Burrows & Jo Swerling                Frank Loesser   \n",
      "3                 Oscar Hammerstein II                  Hammerstein   \n",
      "4      Jerome Chodorov & Joseph Fields  Betty Comden & Adolph Green   \n",
      "\n",
      "                                                Link  \n",
      "0        https://en.wikipedia.org/wiki/Kiss_Me,_Kate  \n",
      "1  https://en.wikipedia.org/wiki/South_Pacific_(m...  \n",
      "2       https://en.wikipedia.org/wiki/Guys_and_Dolls  \n",
      "3       https://en.wikipedia.org/wiki/The_King_and_I  \n",
      "4       https://en.wikipedia.org/wiki/Wonderful_Town  \n",
      "the file you want isn't here\n",
      "the file you want isn't here\n",
      "the file you want isn't here\n"
     ]
    }
   ],
   "source": [
    "import pandas as pd\n",
    "\n",
    "csvs = get_files()\n",
    "for x in csvs:\n",
    "    if x.endswith('Wikipedia_scrape_Tony_Award_for_Best_Musical.csv'):\n",
    "        df = pd.read_csv(x,index_col=0)\n",
    "        print ('file is here!')\n",
    "        print(df.head(5))\n",
    "    else:\n",
    "        print ('the file you want isn\\'t here')"
   ]
  }
 ],
 "metadata": {
  "kernelspec": {
   "display_name": "Python 3",
   "language": "python",
   "name": "python3"
  },
  "language_info": {
   "codemirror_mode": {
    "name": "ipython",
    "version": 3
   },
   "file_extension": ".py",
   "mimetype": "text/x-python",
   "name": "python",
   "nbconvert_exporter": "python",
   "pygments_lexer": "ipython3",
   "version": "3.7.0"
  },
  "toc": {
   "base_numbering": 1,
   "nav_menu": {},
   "number_sections": true,
   "sideBar": true,
   "skip_h1_title": false,
   "title_cell": "Table of Contents",
   "title_sidebar": "Contents",
   "toc_cell": false,
   "toc_position": {},
   "toc_section_display": true,
   "toc_window_display": false
  }
 },
 "nbformat": 4,
 "nbformat_minor": 2
}
