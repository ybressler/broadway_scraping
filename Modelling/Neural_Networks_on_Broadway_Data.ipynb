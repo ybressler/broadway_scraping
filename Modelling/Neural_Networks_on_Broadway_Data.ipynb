{
  "nbformat": 4,
  "nbformat_minor": 0,
  "metadata": {
    "colab": {
      "name": "Neural Networks on Broadway Data.ipynb",
      "version": "0.3.2",
      "provenance": [],
      "include_colab_link": true
    },
    "kernelspec": {
      "name": "python3",
      "display_name": "Python 3"
    }
  },
  "cells": [
    {
      "cell_type": "markdown",
      "metadata": {
        "id": "view-in-github",
        "colab_type": "text"
      },
      "source": [
        "<a href=\"https://colab.research.google.com/github/ybressler/broadway_scraping/blob/master/Modelling/Neural_Networks_on_Broadway_Data.ipynb\" target=\"_parent\"><img src=\"https://colab.research.google.com/assets/colab-badge.svg\" alt=\"Open In Colab\"/></a>"
      ]
    },
    {
      "cell_type": "markdown",
      "metadata": {
        "id": "JVxFGlzHdohL",
        "colab_type": "text"
      },
      "source": [
        "Goal of this project"
      ]
    },
    {
      "cell_type": "markdown",
      "metadata": {
        "id": "89yfsjdXdr5h",
        "colab_type": "text"
      },
      "source": [
        "# Section 1"
      ]
    },
    {
      "cell_type": "code",
      "metadata": {
        "id": "7VU9CR9-doGR",
        "colab_type": "code",
        "colab": {}
      },
      "source": [
        "import pandas as pd\n",
        "\n",
        "def max_string(arr):\n",
        "  \"\"\"\n",
        "  gets you the max length string\n",
        "  \"\"\"\n",
        "  max_l = 0\n",
        "  max_string =None\n",
        "  for x in arr:\n",
        "    if len(str(x))>max_l:\n",
        "      max_l = len(str(x))\n",
        "      max_string = str(x)\n",
        "  return max_string"
      ],
      "execution_count": 0,
      "outputs": []
    },
    {
      "cell_type": "code",
      "metadata": {
        "id": "ygAPwDwWdvQM",
        "colab_type": "code",
        "colab": {}
      },
      "source": [
        "best_musical = 'https://github.com/ybressler/broadway_scraping/blob/master/Wikipedia_scrape_Tony_Award_for_Best_Musical.csv'\n",
        "best_rev_musical = 'https://github.com/ybressler/broadway_scraping/blob/master/Wikipedia_scrape_Tony_Award_for_Best_Revival_of_a_Musical.csv'"
      ],
      "execution_count": 0,
      "outputs": []
    },
    {
      "cell_type": "code",
      "metadata": {
        "id": "y743ZuEweDsG",
        "colab_type": "code",
        "colab": {}
      },
      "source": [
        "df_musical = pd.read_html(best_musical)[0]\n",
        "# drop unnecessary columns\n",
        "df_musical.drop(columns=[x for x in df_musical.columns if 'Unnamed' in x], inplace=True)\n",
        "df_musical['Revival'] = False\n",
        "\n",
        "df_rev_musical = pd.read_html(best_rev_musical)[0]\n",
        "# drop unnecessary columns\n",
        "df_rev_musical.drop(columns=[x for x in df_rev_musical.columns if 'Unnamed' in x], inplace=True)\n",
        "df_rev_musical['Revival'] = True"
      ],
      "execution_count": 0,
      "outputs": []
    },
    {
      "cell_type": "code",
      "metadata": {
        "id": "fd_HonTEfa1M",
        "colab_type": "code",
        "outputId": "aeca49ee-a5d4-4a0b-c813-31113621aa36",
        "colab": {
          "base_uri": "https://localhost:8080/",
          "height": 204
        }
      },
      "source": [
        "df_rev_musical.tail()"
      ],
      "execution_count": 0,
      "outputs": [
        {
          "output_type": "execute_result",
          "data": {
            "text/html": [
              "<div>\n",
              "<style scoped>\n",
              "    .dataframe tbody tr th:only-of-type {\n",
              "        vertical-align: middle;\n",
              "    }\n",
              "\n",
              "    .dataframe tbody tr th {\n",
              "        vertical-align: top;\n",
              "    }\n",
              "\n",
              "    .dataframe thead th {\n",
              "        text-align: right;\n",
              "    }\n",
              "</style>\n",
              "<table border=\"1\" class=\"dataframe\">\n",
              "  <thead>\n",
              "    <tr style=\"text-align: right;\">\n",
              "      <th></th>\n",
              "      <th>Year</th>\n",
              "      <th>Winner</th>\n",
              "      <th>Musical</th>\n",
              "      <th>Music</th>\n",
              "      <th>Book</th>\n",
              "      <th>Lyrics</th>\n",
              "      <th>Link</th>\n",
              "      <th>Revival</th>\n",
              "    </tr>\n",
              "  </thead>\n",
              "  <tbody>\n",
              "    <tr>\n",
              "      <th>84</th>\n",
              "      <td>2018</td>\n",
              "      <td>True</td>\n",
              "      <td>Once on This Island</td>\n",
              "      <td>Stephen Flaherty</td>\n",
              "      <td>Lynn Ahrens</td>\n",
              "      <td>Ahrens</td>\n",
              "      <td>https://en.wikipedia.org/wiki/Once_on_This_Island</td>\n",
              "      <td>True</td>\n",
              "    </tr>\n",
              "    <tr>\n",
              "      <th>85</th>\n",
              "      <td>2018</td>\n",
              "      <td>False</td>\n",
              "      <td>Carousel</td>\n",
              "      <td>Richard Rodgers</td>\n",
              "      <td>Oscar Hammerstein II</td>\n",
              "      <td>Hammerstein</td>\n",
              "      <td>https://en.wikipedia.org/wiki/Carousel_(musical)</td>\n",
              "      <td>True</td>\n",
              "    </tr>\n",
              "    <tr>\n",
              "      <th>86</th>\n",
              "      <td>2018</td>\n",
              "      <td>False</td>\n",
              "      <td>My Fair Lady</td>\n",
              "      <td>Frederick Loewe</td>\n",
              "      <td>Alan Jay Lerner</td>\n",
              "      <td>Lerner</td>\n",
              "      <td>https://en.wikipedia.org/wiki/My_Fair_Lady</td>\n",
              "      <td>True</td>\n",
              "    </tr>\n",
              "    <tr>\n",
              "      <th>87</th>\n",
              "      <td>2019</td>\n",
              "      <td>True</td>\n",
              "      <td>Oklahoma!</td>\n",
              "      <td>Richard Rodgers</td>\n",
              "      <td>Oscar Hammerstein II</td>\n",
              "      <td>Hammerstein</td>\n",
              "      <td>https://en.wikipedia.org/wiki/Oklahoma!</td>\n",
              "      <td>True</td>\n",
              "    </tr>\n",
              "    <tr>\n",
              "      <th>88</th>\n",
              "      <td>2019</td>\n",
              "      <td>False</td>\n",
              "      <td>Kiss Me, Kate</td>\n",
              "      <td>Cole Porter</td>\n",
              "      <td>Bella &amp; Samuel Spewack</td>\n",
              "      <td>Cole Porter</td>\n",
              "      <td>https://en.wikipedia.org/wiki/Kiss_Me,_Kate</td>\n",
              "      <td>True</td>\n",
              "    </tr>\n",
              "  </tbody>\n",
              "</table>\n",
              "</div>"
            ],
            "text/plain": [
              "    Year  Winner  ...                                               Link Revival\n",
              "84  2018    True  ...  https://en.wikipedia.org/wiki/Once_on_This_Island    True\n",
              "85  2018   False  ...   https://en.wikipedia.org/wiki/Carousel_(musical)    True\n",
              "86  2018   False  ...         https://en.wikipedia.org/wiki/My_Fair_Lady    True\n",
              "87  2019    True  ...            https://en.wikipedia.org/wiki/Oklahoma!    True\n",
              "88  2019   False  ...        https://en.wikipedia.org/wiki/Kiss_Me,_Kate    True\n",
              "\n",
              "[5 rows x 8 columns]"
            ]
          },
          "metadata": {
            "tags": []
          },
          "execution_count": 4
        }
      ]
    },
    {
      "cell_type": "code",
      "metadata": {
        "id": "Mn2nHmu7fvUU",
        "colab_type": "code",
        "colab": {}
      },
      "source": [
        "name_mapper = {\n",
        "    'Oscar Hammerstein II': 'Oscar Hammerstein',\n",
        "}\n",
        "\n",
        "# Do it once\n",
        "records = []\n",
        "for idx, row in df_rev_musical.iterrows():\n",
        "  yr, win, musical = row[['Year','Winner','Musical']]\n",
        "  for role in ['Music','Book','Lyrics']:\n",
        "    name = row[role]\n",
        "\n",
        "    name_list = name.split('&') if '&' in name else name.split(',') if ',' in name else [name]\n",
        "    for n in name_list:\n",
        "      n = n.strip()\n",
        "      n = name_mapper[n] if n in name_mapper.keys() else n\n",
        "\n",
        "      records.append({'Year':yr,'Winner':win,'Musical':musical, 'role':role,'name':n})\n",
        "\n",
        "# Update names once \n",
        "new_df = pd.DataFrame(records)\n",
        "for name in new_df.name.unique():\n",
        "  name_mapper[name] = max_string([x for x in new_df.name.unique() if name in x])"
      ],
      "execution_count": 0,
      "outputs": []
    },
    {
      "cell_type": "code",
      "metadata": {
        "id": "YoAnKPxHpM3b",
        "colab_type": "code",
        "colab": {}
      },
      "source": [
        "new_df.name = new_df.name.map(name_mapper)"
      ],
      "execution_count": 0,
      "outputs": []
    },
    {
      "cell_type": "code",
      "metadata": {
        "id": "OJRtXmiZme41",
        "colab_type": "code",
        "colab": {}
      },
      "source": [
        "merged_dfs = []\n",
        "# Now convert from long to wide:\n",
        "for role in new_df.role.unique():\n",
        "  temp_df = new_df[new_df['role']==role].drop(columns='role')\n",
        "  temp_df_dummies = pd.get_dummies(temp_df['name'], prefix='Contrib')\n",
        "  temp_df_merge = temp_df.merge(temp_df_dummies, left_index=True, right_index=True).drop(columns='name')\n",
        "  merged_dfs.append(temp_df_merge)"
      ],
      "execution_count": 0,
      "outputs": []
    },
    {
      "cell_type": "code",
      "metadata": {
        "id": "nPMv8ESbqWn5",
        "colab_type": "code",
        "colab": {}
      },
      "source": [
        "df_all = pd.concat(merged_dfs, sort=False)\n",
        "df_all = df_all.groupby(['Musical','Winner','Year'], as_index=False).sum()\n",
        "df_all['Age'] = df_all['Year'].apply(lambda x: 2020-int(x))\n",
        "df_all.drop(columns='Year', inplace=True)"
      ],
      "execution_count": 0,
      "outputs": []
    },
    {
      "cell_type": "code",
      "metadata": {
        "id": "FudDgF1Brp6A",
        "colab_type": "code",
        "colab": {}
      },
      "source": [
        "from sklearn.model_selection import train_test_split\n",
        "\n",
        "X = df_all.drop(columns=['Musical','Winner'])\n",
        "Y = df_all['Winner']\n",
        "\n",
        "X_train, X_test, y_train, y_test = train_test_split(X, Y, test_size=0.20)"
      ],
      "execution_count": 0,
      "outputs": []
    },
    {
      "cell_type": "code",
      "metadata": {
        "id": "Ykrb-96PzHIH",
        "colab_type": "code",
        "colab": {}
      },
      "source": [
        ""
      ],
      "execution_count": 0,
      "outputs": []
    },
    {
      "cell_type": "markdown",
      "metadata": {
        "id": "z8P40bWAtUvg",
        "colab_type": "text"
      },
      "source": [
        "# Now prepare the NN"
      ]
    },
    {
      "cell_type": "code",
      "metadata": {
        "id": "EsBic9WQtWG0",
        "colab_type": "code",
        "outputId": "45d7dd3c-7484-48bc-e546-6e5dbdeab7e6",
        "colab": {
          "base_uri": "https://localhost:8080/",
          "height": 34
        }
      },
      "source": [
        "import keras\n",
        "from keras.models import Sequential\n",
        "from keras.layers import Dense, Dropout"
      ],
      "execution_count": 0,
      "outputs": [
        {
          "output_type": "stream",
          "text": [
            "Using TensorFlow backend.\n"
          ],
          "name": "stderr"
        }
      ]
    },
    {
      "cell_type": "code",
      "metadata": {
        "id": "eu-KoLDytXy_",
        "colab_type": "code",
        "outputId": "113fe6b2-bc14-456a-e122-afc6b1e03365",
        "colab": {
          "base_uri": "https://localhost:8080/",
          "height": 255
        }
      },
      "source": [
        "model = Sequential()\n",
        "\n",
        "n = X_train.shape[1]\n",
        "# Add a dense layer \n",
        "model.add(Dense(16, input_shape=(n,), activation='relu'))\n",
        "# model.add(Dropout(0.10,))\n",
        "model.add(Dense(8, activation='sigmoid'))\n",
        "# model.add(Dropout(0.10,))\n",
        "model.add(Dense(1, activation='sigmoid'))\n",
        "\n",
        "# Compile your model\n",
        "model.compile(loss='binary_crossentropy', optimizer='adam', metrics=['accuracy'])\n",
        "\n",
        "# Display a summary of your model\n",
        "model.summary()"
      ],
      "execution_count": 0,
      "outputs": [
        {
          "output_type": "stream",
          "text": [
            "Model: \"sequential_2\"\n",
            "_________________________________________________________________\n",
            "Layer (type)                 Output Shape              Param #   \n",
            "=================================================================\n",
            "dense_4 (Dense)              (None, 16)                2128      \n",
            "_________________________________________________________________\n",
            "dense_5 (Dense)              (None, 8)                 136       \n",
            "_________________________________________________________________\n",
            "dense_6 (Dense)              (None, 1)                 9         \n",
            "=================================================================\n",
            "Total params: 2,273\n",
            "Trainable params: 2,273\n",
            "Non-trainable params: 0\n",
            "_________________________________________________________________\n"
          ],
          "name": "stdout"
        }
      ]
    },
    {
      "cell_type": "code",
      "metadata": {
        "id": "KVK-7dRJttTm",
        "colab_type": "code",
        "outputId": "53e23ada-d409-424a-f648-633e0e34ab5c",
        "colab": {
          "base_uri": "https://localhost:8080/",
          "height": 71
        }
      },
      "source": [
        "history = model.fit(X_train, y_train,validation_data=(X_test, y_test), epochs=100, verbose=0)"
      ],
      "execution_count": 0,
      "outputs": [
        {
          "output_type": "stream",
          "text": [
            "WARNING:tensorflow:From /usr/local/lib/python3.6/dist-packages/keras/backend/tensorflow_backend.py:1033: The name tf.assign_add is deprecated. Please use tf.compat.v1.assign_add instead.\n",
            "\n"
          ],
          "name": "stdout"
        }
      ]
    },
    {
      "cell_type": "code",
      "metadata": {
        "id": "fS9LxSa9xM7u",
        "colab_type": "code",
        "outputId": "209f78e2-e1be-4896-aa53-b969ddf82635",
        "colab": {
          "base_uri": "https://localhost:8080/",
          "height": 297
        }
      },
      "source": [
        "import matplotlib.pyplot as plt\n",
        "\n",
        "fig, (ax1, ax2) = plt.subplots(1,2, figsize=(16,4))\n",
        "ax1.plot(history.history['acc'])\n",
        "ax1.plot(history.history['val_acc'])\n",
        "ax1.legend(['train','test'])\n",
        "ax1.set_title('Accuracy')\n",
        "# -----\n",
        "ax2.plot(history.history['loss'])\n",
        "ax2.plot(history.history['val_loss'])\n",
        "ax2.legend(['train','test'])\n",
        "ax2.set_title('Loss')\n",
        "# -----\n",
        "plt.tight_layout()\n",
        "plt.show()"
      ],
      "execution_count": 0,
      "outputs": [
        {
          "output_type": "display_data",
          "data": {
            "image/png": "[encoded data removed]",
            "text/plain": [
              "<Figure size 1152x288 with 2 Axes>"
            ]
          },
          "metadata": {
            "tags": []
          }
        }
      ]
    },
    {
      "cell_type": "code",
      "metadata": {
        "id": "5S62uaz-uCdz",
        "colab_type": "code",
        "outputId": "622521a0-0f20-4671-80cd-a6b99f0c5060",
        "colab": {
          "base_uri": "https://localhost:8080/",
          "height": 269
        }
      },
      "source": [
        "plt.figure(figsize=(14,4))\n",
        "plt.plot(history.history['loss'])\n",
        "plt.plot(history.history['val_loss'])\n",
        "plt.legend(['train','test'])\n",
        "plt.show()"
      ],
      "execution_count": 0,
      "outputs": [
        {
          "output_type": "display_data",
          "data": {
            "image/png": "[encoded data removed]",
            "text/plain": [
              "<Figure size 1008x288 with 1 Axes>"
            ]
          },
          "metadata": {
            "tags": []
          }
        }
      ]
    },
    {
      "cell_type": "code",
      "metadata": {
        "id": "X5ZM8OQktm9c",
        "colab_type": "code",
        "colab": {}
      },
      "source": [
        ""
      ],
      "execution_count": 0,
      "outputs": []
    },
    {
      "cell_type": "markdown",
      "metadata": {
        "id": "EUDD8xkzHeNe",
        "colab_type": "text"
      },
      "source": [
        "## Now try with an autoencoder"
      ]
    },
    {
      "cell_type": "code",
      "metadata": {
        "id": "bpZBVKeyHgBb",
        "colab_type": "code",
        "colab": {}
      },
      "source": [
        "import keras\n",
        "from keras.models import Sequential\n",
        "from keras.layers import Dense, Dropout, BatchNormalization"
      ],
      "execution_count": 0,
      "outputs": []
    },
    {
      "cell_type": "code",
      "metadata": {
        "id": "ZI1D4MWdIaQY",
        "colab_type": "code",
        "outputId": "2ebe2b4e-a65a-41d1-8c33-194c4a072341",
        "colab": {
          "base_uri": "https://localhost:8080/",
          "height": 221
        }
      },
      "source": [
        "n = X_train.shape[1]\n",
        "\n",
        "# Start with a sequential model\n",
        "autoencoder = Sequential()\n",
        "autoencoder.add(Dense(32, input_shape=(n, ), activation=\"relu\"))\n",
        "autoencoder.add(Dense(n, activation=\"sigmoid\"))\n",
        "autoencoder.compile(optimizer='adadelta', loss='binary_crossentropy')"
      ],
      "execution_count": 0,
      "outputs": [
        {
          "output_type": "stream",
          "text": [
            "Model: \"sequential_3\"\n",
            "_________________________________________________________________\n",
            "Layer (type)                 Output Shape              Param #   \n",
            "=================================================================\n",
            "dense_7 (Dense)              (None, 32)                4256      \n",
            "_________________________________________________________________\n",
            "dense_8 (Dense)              (None, 132)               4356      \n",
            "=================================================================\n",
            "Total params: 8,612\n",
            "Trainable params: 8,612\n",
            "Non-trainable params: 0\n",
            "_________________________________________________________________\n"
          ],
          "name": "stdout"
        }
      ]
    },
    {
      "cell_type": "code",
      "metadata": {
        "id": "bQXl5XRiIim4",
        "colab_type": "code",
        "colab": {}
      },
      "source": [
        ""
      ],
      "execution_count": 0,
      "outputs": []
    },
    {
      "cell_type": "code",
      "metadata": {
        "id": "3oI4J7K6sjFy",
        "colab_type": "code",
        "colab": {}
      },
      "source": [
        "model = Sequential()\n",
        "model.add(autoencoder)\n",
        "\n",
        "model.add(Dense(16, input_shape=(n,), activation='relu'))\n",
        "model.add(Dropout(0.10,))\n",
        "model.add(Dense(8, activation='sigmoid'))\n",
        "model.add(Dropout(0.10,))\n",
        "model.add(Dense(1, activation='sigmoid'))\n",
        "\n",
        "# Compile your model\n",
        "model.compile(loss='binary_crossentropy', optimizer='adam', metrics=['accuracy'])\n",
        "\n",
        "# # Display a summary of your model\n",
        "# model.summary()"
      ],
      "execution_count": 0,
      "outputs": []
    },
    {
      "cell_type": "code",
      "metadata": {
        "id": "kZuhS8I7JwPK",
        "colab_type": "code",
        "colab": {}
      },
      "source": [
        "history = model.fit(X_train, y_train,validation_data=(X_test, y_test), epochs=100, verbose=0)"
      ],
      "execution_count": 0,
      "outputs": []
    },
    {
      "cell_type": "code",
      "metadata": {
        "id": "_Qnz4Z4aJ18D",
        "colab_type": "code",
        "outputId": "7caa3894-c9ea-419d-c6e1-a7b84a4a241c",
        "colab": {
          "base_uri": "https://localhost:8080/",
          "height": 297
        }
      },
      "source": [
        "import matplotlib.pyplot as plt\n",
        "\n",
        "fig, (ax1, ax2) = plt.subplots(1,2, figsize=(16,4))\n",
        "ax1.plot(history.history['acc'])\n",
        "ax1.plot(history.history['val_acc'])\n",
        "ax1.legend(['train','test'])\n",
        "ax1.set_title('Accuracy')\n",
        "# -----\n",
        "ax2.plot(history.history['loss'])\n",
        "ax2.plot(history.history['val_loss'])\n",
        "ax2.legend(['train','test'])\n",
        "ax2.set_title('Loss')\n",
        "# -----\n",
        "plt.tight_layout()\n",
        "plt.show()"
      ],
      "execution_count": 0,
      "outputs": [
        {
          "output_type": "display_data",
          "data": {
            "image/png": "[encoded data removed]",
            "text/plain": [
              "<Figure size 1152x288 with 2 Axes>"
            ]
          },
          "metadata": {
            "tags": []
          }
        }
      ]
    },
    {
      "cell_type": "code",
      "metadata": {
        "id": "IDooObK6rlJ-",
        "colab_type": "code",
        "colab": {}
      },
      "source": [
        ""
      ],
      "execution_count": 0,
      "outputs": []
    },
    {
      "cell_type": "code",
      "metadata": {
        "id": "Kbbj31wbnAmZ",
        "colab_type": "code",
        "colab": {}
      },
      "source": [
        ""
      ],
      "execution_count": 0,
      "outputs": []
    }
  ]
}